{
 "cells": [
  {
   "cell_type": "code",
   "execution_count": 3,
   "metadata": {},
   "outputs": [
    {
     "name": "stdout",
     "output_type": "stream",
     "text": [
      "Requirement already satisfied: torch in /home/gocandra/workspace/chess/venv/lib/python3.8/site-packages (1.12.0)\n",
      "Requirement already satisfied: typing-extensions in /home/gocandra/workspace/chess/venv/lib/python3.8/site-packages (from torch) (4.3.0)\n",
      "\u001b[33mWARNING: You are using pip version 20.1.1; however, version 22.1.2 is available.\n",
      "You should consider upgrading via the '/home/gocandra/workspace/chess/venv/bin/python -m pip install --upgrade pip' command.\u001b[0m\n",
      "Note: you may need to restart the kernel to use updated packages.\n",
      "Requirement already satisfied: pytorch_lightning in /home/gocandra/workspace/chess/venv/lib/python3.8/site-packages (1.6.4)\n",
      "Requirement already satisfied: numpy>=1.17.2 in /home/gocandra/workspace/chess/venv/lib/python3.8/site-packages (from pytorch_lightning) (1.23.0)\n",
      "Requirement already satisfied: packaging>=17.0 in /home/gocandra/workspace/chess/venv/lib/python3.8/site-packages (from pytorch_lightning) (21.3)\n",
      "Requirement already satisfied: tensorboard>=2.2.0 in /home/gocandra/workspace/chess/venv/lib/python3.8/site-packages (from pytorch_lightning) (2.9.1)\n",
      "Requirement already satisfied: PyYAML>=5.4 in /home/gocandra/workspace/chess/venv/lib/python3.8/site-packages (from pytorch_lightning) (6.0)\n",
      "Requirement already satisfied: pyDeprecate>=0.3.1 in /home/gocandra/workspace/chess/venv/lib/python3.8/site-packages (from pytorch_lightning) (0.3.2)\n",
      "Requirement already satisfied: torch>=1.8.* in /home/gocandra/workspace/chess/venv/lib/python3.8/site-packages (from pytorch_lightning) (1.12.0)\n",
      "Requirement already satisfied: tqdm>=4.57.0 in /home/gocandra/workspace/chess/venv/lib/python3.8/site-packages (from pytorch_lightning) (4.64.0)\n",
      "Requirement already satisfied: torchmetrics>=0.4.1 in /home/gocandra/workspace/chess/venv/lib/python3.8/site-packages (from pytorch_lightning) (0.9.2)\n",
      "Requirement already satisfied: typing-extensions>=4.0.0 in /home/gocandra/workspace/chess/venv/lib/python3.8/site-packages (from pytorch_lightning) (4.3.0)\n",
      "Requirement already satisfied: protobuf<=3.20.1 in /home/gocandra/workspace/chess/venv/lib/python3.8/site-packages (from pytorch_lightning) (3.20.1)\n",
      "Requirement already satisfied: fsspec[http]!=2021.06.0,>=2021.05.0 in /home/gocandra/workspace/chess/venv/lib/python3.8/site-packages (from pytorch_lightning) (2022.5.0)\n",
      "Requirement already satisfied: pyparsing!=3.0.5,>=2.0.2 in /home/gocandra/workspace/chess/venv/lib/python3.8/site-packages (from packaging>=17.0->pytorch_lightning) (3.0.9)\n",
      "Requirement already satisfied: requests<3,>=2.21.0 in /home/gocandra/workspace/chess/venv/lib/python3.8/site-packages (from tensorboard>=2.2.0->pytorch_lightning) (2.28.1)\n",
      "Requirement already satisfied: grpcio>=1.24.3 in /home/gocandra/workspace/chess/venv/lib/python3.8/site-packages (from tensorboard>=2.2.0->pytorch_lightning) (1.47.0)\n",
      "Requirement already satisfied: google-auth-oauthlib<0.5,>=0.4.1 in /home/gocandra/workspace/chess/venv/lib/python3.8/site-packages (from tensorboard>=2.2.0->pytorch_lightning) (0.4.6)\n",
      "Requirement already satisfied: markdown>=2.6.8 in /home/gocandra/workspace/chess/venv/lib/python3.8/site-packages (from tensorboard>=2.2.0->pytorch_lightning) (3.3.7)\n",
      "Requirement already satisfied: absl-py>=0.4 in /home/gocandra/workspace/chess/venv/lib/python3.8/site-packages (from tensorboard>=2.2.0->pytorch_lightning) (1.1.0)\n",
      "Requirement already satisfied: tensorboard-data-server<0.7.0,>=0.6.0 in /home/gocandra/workspace/chess/venv/lib/python3.8/site-packages (from tensorboard>=2.2.0->pytorch_lightning) (0.6.1)\n",
      "Requirement already satisfied: wheel>=0.26 in /home/gocandra/workspace/chess/venv/lib/python3.8/site-packages (from tensorboard>=2.2.0->pytorch_lightning) (0.37.1)\n",
      "Requirement already satisfied: google-auth<3,>=1.6.3 in /home/gocandra/workspace/chess/venv/lib/python3.8/site-packages (from tensorboard>=2.2.0->pytorch_lightning) (2.9.0)\n",
      "Requirement already satisfied: tensorboard-plugin-wit>=1.6.0 in /home/gocandra/workspace/chess/venv/lib/python3.8/site-packages (from tensorboard>=2.2.0->pytorch_lightning) (1.8.1)\n",
      "Requirement already satisfied: werkzeug>=1.0.1 in /home/gocandra/workspace/chess/venv/lib/python3.8/site-packages (from tensorboard>=2.2.0->pytorch_lightning) (2.1.2)\n",
      "Requirement already satisfied: setuptools>=41.0.0 in /home/gocandra/workspace/chess/venv/lib/python3.8/site-packages (from tensorboard>=2.2.0->pytorch_lightning) (47.1.0)\n",
      "Requirement already satisfied: aiohttp; extra == \"http\" in /home/gocandra/workspace/chess/venv/lib/python3.8/site-packages (from fsspec[http]!=2021.06.0,>=2021.05.0->pytorch_lightning) (3.8.1)\n",
      "Requirement already satisfied: urllib3<1.27,>=1.21.1 in /home/gocandra/workspace/chess/venv/lib/python3.8/site-packages (from requests<3,>=2.21.0->tensorboard>=2.2.0->pytorch_lightning) (1.26.9)\n",
      "Requirement already satisfied: certifi>=2017.4.17 in /home/gocandra/workspace/chess/venv/lib/python3.8/site-packages (from requests<3,>=2.21.0->tensorboard>=2.2.0->pytorch_lightning) (2022.6.15)\n",
      "Requirement already satisfied: charset-normalizer<3,>=2 in /home/gocandra/workspace/chess/venv/lib/python3.8/site-packages (from requests<3,>=2.21.0->tensorboard>=2.2.0->pytorch_lightning) (2.1.0)\n",
      "Requirement already satisfied: idna<4,>=2.5 in /home/gocandra/workspace/chess/venv/lib/python3.8/site-packages (from requests<3,>=2.21.0->tensorboard>=2.2.0->pytorch_lightning) (3.3)\n",
      "Requirement already satisfied: six>=1.5.2 in /home/gocandra/workspace/chess/venv/lib/python3.8/site-packages (from grpcio>=1.24.3->tensorboard>=2.2.0->pytorch_lightning) (1.16.0)\n",
      "Requirement already satisfied: requests-oauthlib>=0.7.0 in /home/gocandra/workspace/chess/venv/lib/python3.8/site-packages (from google-auth-oauthlib<0.5,>=0.4.1->tensorboard>=2.2.0->pytorch_lightning) (1.3.1)\n",
      "Requirement already satisfied: importlib-metadata>=4.4; python_version < \"3.10\" in /home/gocandra/workspace/chess/venv/lib/python3.8/site-packages (from markdown>=2.6.8->tensorboard>=2.2.0->pytorch_lightning) (4.12.0)\n",
      "Requirement already satisfied: pyasn1-modules>=0.2.1 in /home/gocandra/workspace/chess/venv/lib/python3.8/site-packages (from google-auth<3,>=1.6.3->tensorboard>=2.2.0->pytorch_lightning) (0.2.8)\n",
      "Requirement already satisfied: rsa<5,>=3.1.4; python_version >= \"3.6\" in /home/gocandra/workspace/chess/venv/lib/python3.8/site-packages (from google-auth<3,>=1.6.3->tensorboard>=2.2.0->pytorch_lightning) (4.8)\n",
      "Requirement already satisfied: cachetools<6.0,>=2.0.0 in /home/gocandra/workspace/chess/venv/lib/python3.8/site-packages (from google-auth<3,>=1.6.3->tensorboard>=2.2.0->pytorch_lightning) (5.2.0)\n",
      "Requirement already satisfied: yarl<2.0,>=1.0 in /home/gocandra/workspace/chess/venv/lib/python3.8/site-packages (from aiohttp; extra == \"http\"->fsspec[http]!=2021.06.0,>=2021.05.0->pytorch_lightning) (1.7.2)\n",
      "Requirement already satisfied: attrs>=17.3.0 in /home/gocandra/workspace/chess/venv/lib/python3.8/site-packages (from aiohttp; extra == \"http\"->fsspec[http]!=2021.06.0,>=2021.05.0->pytorch_lightning) (21.4.0)\n",
      "Requirement already satisfied: multidict<7.0,>=4.5 in /home/gocandra/workspace/chess/venv/lib/python3.8/site-packages (from aiohttp; extra == \"http\"->fsspec[http]!=2021.06.0,>=2021.05.0->pytorch_lightning) (6.0.2)\n",
      "Requirement already satisfied: async-timeout<5.0,>=4.0.0a3 in /home/gocandra/workspace/chess/venv/lib/python3.8/site-packages (from aiohttp; extra == \"http\"->fsspec[http]!=2021.06.0,>=2021.05.0->pytorch_lightning) (4.0.2)\n",
      "Requirement already satisfied: aiosignal>=1.1.2 in /home/gocandra/workspace/chess/venv/lib/python3.8/site-packages (from aiohttp; extra == \"http\"->fsspec[http]!=2021.06.0,>=2021.05.0->pytorch_lightning) (1.2.0)\n",
      "Requirement already satisfied: frozenlist>=1.1.1 in /home/gocandra/workspace/chess/venv/lib/python3.8/site-packages (from aiohttp; extra == \"http\"->fsspec[http]!=2021.06.0,>=2021.05.0->pytorch_lightning) (1.3.0)\n",
      "Requirement already satisfied: oauthlib>=3.0.0 in /home/gocandra/workspace/chess/venv/lib/python3.8/site-packages (from requests-oauthlib>=0.7.0->google-auth-oauthlib<0.5,>=0.4.1->tensorboard>=2.2.0->pytorch_lightning) (3.2.0)\n",
      "Requirement already satisfied: zipp>=0.5 in /home/gocandra/workspace/chess/venv/lib/python3.8/site-packages (from importlib-metadata>=4.4; python_version < \"3.10\"->markdown>=2.6.8->tensorboard>=2.2.0->pytorch_lightning) (3.8.0)\n",
      "Requirement already satisfied: pyasn1<0.5.0,>=0.4.6 in /home/gocandra/workspace/chess/venv/lib/python3.8/site-packages (from pyasn1-modules>=0.2.1->google-auth<3,>=1.6.3->tensorboard>=2.2.0->pytorch_lightning) (0.4.8)\n",
      "\u001b[33mWARNING: You are using pip version 20.1.1; however, version 22.1.2 is available.\n",
      "You should consider upgrading via the '/home/gocandra/workspace/chess/venv/bin/python -m pip install --upgrade pip' command.\u001b[0m\n",
      "Note: you may need to restart the kernel to use updated packages.\n"
     ]
    }
   ],
   "source": [
    "%pip install torch\n",
    "%pip install pytorch_lightning\n",
    "%pip install torchvision\n",
    "import os\n",
    "import torch\n",
    "from torch import nn\n",
    "import torch.nn.functional as F\n",
    "from torchvision import transforms\n",
    "from torchvision.datasets import MNIST\n",
    "from torch.utils.data import DataLoader, random_split\n",
    "import pytorch_lightning as pl"
   ]
  },
  {
   "cell_type": "code",
   "execution_count": null,
   "metadata": {},
   "outputs": [],
   "source": []
  }
 ],
 "metadata": {
  "kernelspec": {
   "display_name": "Python 3.8.5 ('venv': venv)",
   "language": "python",
   "name": "python3"
  },
  "language_info": {
   "codemirror_mode": {
    "name": "ipython",
    "version": 3
   },
   "file_extension": ".py",
   "mimetype": "text/x-python",
   "name": "python",
   "nbconvert_exporter": "python",
   "pygments_lexer": "ipython3",
   "version": "3.8.5"
  },
  "orig_nbformat": 4,
  "vscode": {
   "interpreter": {
    "hash": "4c41a224fddfaba5ba74d91ef2d47e8d55f1abb0e15614ceb3b6ebc3f29e5182"
   }
  }
 },
 "nbformat": 4,
 "nbformat_minor": 2
}
