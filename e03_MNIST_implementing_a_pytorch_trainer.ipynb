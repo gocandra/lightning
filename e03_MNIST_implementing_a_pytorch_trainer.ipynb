{
 "cells": [
  {
   "cell_type": "code",
   "execution_count": 1,
   "metadata": {},
   "outputs": [
    {
     "name": "stdout",
     "output_type": "stream",
     "text": [
      "Requirement already satisfied: pytorch-lightning in /home/gocandra/.local/lib/python3.9/site-packages (1.6.4)\n",
      "Requirement already satisfied: pyDeprecate>=0.3.1 in /home/gocandra/.local/lib/python3.9/site-packages (from pytorch-lightning) (0.3.2)\n",
      "Requirement already satisfied: tensorboard>=2.2.0 in /home/gocandra/.local/lib/python3.9/site-packages (from pytorch-lightning) (2.9.1)\n",
      "Requirement already satisfied: tqdm>=4.57.0 in /home/gocandra/.local/lib/python3.9/site-packages (from pytorch-lightning) (4.64.0)\n",
      "Requirement already satisfied: protobuf<=3.20.1 in /usr/lib/python3/dist-packages (from pytorch-lightning) (3.12.4)\n",
      "Requirement already satisfied: torch>=1.8.* in /home/gocandra/.local/lib/python3.9/site-packages (from pytorch-lightning) (1.8.1)\n",
      "Requirement already satisfied: typing-extensions>=4.0.0 in /home/gocandra/.local/lib/python3.9/site-packages (from pytorch-lightning) (4.3.0)\n",
      "Requirement already satisfied: packaging>=17.0 in /home/gocandra/.local/lib/python3.9/site-packages (from pytorch-lightning) (21.3)\n",
      "Requirement already satisfied: numpy>=1.17.2 in /home/gocandra/.local/lib/python3.9/site-packages (from pytorch-lightning) (1.22.4)\n",
      "Requirement already satisfied: fsspec[http]!=2021.06.0,>=2021.05.0 in /home/gocandra/.local/lib/python3.9/site-packages (from pytorch-lightning) (2022.5.0)\n",
      "Requirement already satisfied: torchmetrics>=0.4.1 in /home/gocandra/.local/lib/python3.9/site-packages (from pytorch-lightning) (0.9.2)\n",
      "Requirement already satisfied: PyYAML>=5.4 in /home/gocandra/.local/lib/python3.9/site-packages (from pytorch-lightning) (6.0)\n",
      "Requirement already satisfied: requests in /usr/lib/python3/dist-packages (from fsspec[http]!=2021.06.0,>=2021.05.0->pytorch-lightning) (2.25.1)\n",
      "Requirement already satisfied: aiohttp in /home/gocandra/.local/lib/python3.9/site-packages (from fsspec[http]!=2021.06.0,>=2021.05.0->pytorch-lightning) (3.8.1)\n",
      "Requirement already satisfied: pyparsing!=3.0.5,>=2.0.2 in /home/gocandra/.local/lib/python3.9/site-packages (from packaging>=17.0->pytorch-lightning) (3.0.9)\n",
      "Requirement already satisfied: absl-py>=0.4 in /home/gocandra/.local/lib/python3.9/site-packages (from tensorboard>=2.2.0->pytorch-lightning) (1.1.0)\n",
      "Requirement already satisfied: markdown>=2.6.8 in /home/gocandra/.local/lib/python3.9/site-packages (from tensorboard>=2.2.0->pytorch-lightning) (3.3.7)\n",
      "Requirement already satisfied: grpcio>=1.24.3 in /home/gocandra/.local/lib/python3.9/site-packages (from tensorboard>=2.2.0->pytorch-lightning) (1.47.0)\n",
      "Requirement already satisfied: werkzeug>=1.0.1 in /usr/lib/python3/dist-packages (from tensorboard>=2.2.0->pytorch-lightning) (1.0.1)\n",
      "Requirement already satisfied: tensorboard-data-server<0.7.0,>=0.6.0 in /home/gocandra/.local/lib/python3.9/site-packages (from tensorboard>=2.2.0->pytorch-lightning) (0.6.1)\n",
      "Requirement already satisfied: google-auth<3,>=1.6.3 in /home/gocandra/.local/lib/python3.9/site-packages (from tensorboard>=2.2.0->pytorch-lightning) (2.9.0)\n",
      "Requirement already satisfied: google-auth-oauthlib<0.5,>=0.4.1 in /home/gocandra/.local/lib/python3.9/site-packages (from tensorboard>=2.2.0->pytorch-lightning) (0.4.6)\n",
      "Requirement already satisfied: tensorboard-plugin-wit>=1.6.0 in /home/gocandra/.local/lib/python3.9/site-packages (from tensorboard>=2.2.0->pytorch-lightning) (1.8.1)\n",
      "Requirement already satisfied: setuptools>=41.0.0 in /usr/lib/python3/dist-packages (from tensorboard>=2.2.0->pytorch-lightning) (52.0.0)\n",
      "Requirement already satisfied: wheel>=0.26 in /usr/lib/python3/dist-packages (from tensorboard>=2.2.0->pytorch-lightning) (0.34.2)\n",
      "Requirement already satisfied: cachetools<6.0,>=2.0.0 in /home/gocandra/.local/lib/python3.9/site-packages (from google-auth<3,>=1.6.3->tensorboard>=2.2.0->pytorch-lightning) (5.2.0)\n",
      "Requirement already satisfied: six>=1.9.0 in /usr/lib/python3/dist-packages (from google-auth<3,>=1.6.3->tensorboard>=2.2.0->pytorch-lightning) (1.15.0)\n",
      "Requirement already satisfied: pyasn1-modules>=0.2.1 in /home/gocandra/.local/lib/python3.9/site-packages (from google-auth<3,>=1.6.3->tensorboard>=2.2.0->pytorch-lightning) (0.2.8)\n",
      "Requirement already satisfied: rsa<5,>=3.1.4 in /home/gocandra/.local/lib/python3.9/site-packages (from google-auth<3,>=1.6.3->tensorboard>=2.2.0->pytorch-lightning) (4.8)\n",
      "Requirement already satisfied: requests-oauthlib>=0.7.0 in /home/gocandra/.local/lib/python3.9/site-packages (from google-auth-oauthlib<0.5,>=0.4.1->tensorboard>=2.2.0->pytorch-lightning) (1.3.1)\n",
      "Requirement already satisfied: importlib-metadata>=4.4 in /home/gocandra/.local/lib/python3.9/site-packages (from markdown>=2.6.8->tensorboard>=2.2.0->pytorch-lightning) (4.12.0)\n",
      "Requirement already satisfied: zipp>=0.5 in /home/gocandra/.local/lib/python3.9/site-packages (from importlib-metadata>=4.4->markdown>=2.6.8->tensorboard>=2.2.0->pytorch-lightning) (3.8.0)\n",
      "Requirement already satisfied: pyasn1<0.5.0,>=0.4.6 in /home/gocandra/.local/lib/python3.9/site-packages (from pyasn1-modules>=0.2.1->google-auth<3,>=1.6.3->tensorboard>=2.2.0->pytorch-lightning) (0.4.8)\n",
      "Requirement already satisfied: oauthlib>=3.0.0 in /usr/lib/python3/dist-packages (from requests-oauthlib>=0.7.0->google-auth-oauthlib<0.5,>=0.4.1->tensorboard>=2.2.0->pytorch-lightning) (3.1.0)\n",
      "Requirement already satisfied: charset-normalizer<3.0,>=2.0 in /home/gocandra/.local/lib/python3.9/site-packages (from aiohttp->fsspec[http]!=2021.06.0,>=2021.05.0->pytorch-lightning) (2.1.0)\n",
      "Requirement already satisfied: attrs>=17.3.0 in /home/gocandra/.local/lib/python3.9/site-packages (from aiohttp->fsspec[http]!=2021.06.0,>=2021.05.0->pytorch-lightning) (21.4.0)\n",
      "Requirement already satisfied: async-timeout<5.0,>=4.0.0a3 in /home/gocandra/.local/lib/python3.9/site-packages (from aiohttp->fsspec[http]!=2021.06.0,>=2021.05.0->pytorch-lightning) (4.0.2)\n",
      "Requirement already satisfied: aiosignal>=1.1.2 in /home/gocandra/.local/lib/python3.9/site-packages (from aiohttp->fsspec[http]!=2021.06.0,>=2021.05.0->pytorch-lightning) (1.2.0)\n",
      "Requirement already satisfied: multidict<7.0,>=4.5 in /home/gocandra/.local/lib/python3.9/site-packages (from aiohttp->fsspec[http]!=2021.06.0,>=2021.05.0->pytorch-lightning) (6.0.2)\n",
      "Requirement already satisfied: yarl<2.0,>=1.0 in /home/gocandra/.local/lib/python3.9/site-packages (from aiohttp->fsspec[http]!=2021.06.0,>=2021.05.0->pytorch-lightning) (1.7.2)\n",
      "Requirement already satisfied: frozenlist>=1.1.1 in /home/gocandra/.local/lib/python3.9/site-packages (from aiohttp->fsspec[http]!=2021.06.0,>=2021.05.0->pytorch-lightning) (1.3.0)\n",
      "Requirement already satisfied: idna>=2.0 in /usr/lib/python3/dist-packages (from yarl<2.0,>=1.0->aiohttp->fsspec[http]!=2021.06.0,>=2021.05.0->pytorch-lightning) (2.10)\n",
      "Requirement already satisfied: torchmetrics in /home/gocandra/.local/lib/python3.9/site-packages (0.9.2)\n",
      "Requirement already satisfied: numpy>=1.17.2 in /home/gocandra/.local/lib/python3.9/site-packages (from torchmetrics) (1.22.4)\n",
      "Requirement already satisfied: packaging in /home/gocandra/.local/lib/python3.9/site-packages (from torchmetrics) (21.3)\n",
      "Requirement already satisfied: torch>=1.3.1 in /home/gocandra/.local/lib/python3.9/site-packages (from torchmetrics) (1.8.1)\n",
      "Requirement already satisfied: typing-extensions in /home/gocandra/.local/lib/python3.9/site-packages (from torch>=1.3.1->torchmetrics) (4.3.0)\n",
      "Requirement already satisfied: pyparsing!=3.0.5,>=2.0.2 in /home/gocandra/.local/lib/python3.9/site-packages (from packaging->torchmetrics) (3.0.9)\n"
     ]
    }
   ],
   "source": [
    "! pip install pytorch-lightning\n",
    "! pip install torchmetrics"
   ]
  },
  {
   "cell_type": "code",
   "execution_count": 17,
   "metadata": {},
   "outputs": [],
   "source": [
    "import torch\n",
    "from torch import nn\n",
    "from torch.optim import Adam\n",
    "from torch.nn.functional import cross_entropy\n",
    "import pytorch_lightning as pl\n",
    "from torchvision.datasets import MNIST"
   ]
  },
  {
   "cell_type": "code",
   "execution_count": 18,
   "metadata": {},
   "outputs": [],
   "source": [
    "train_loader = MNIST('data')\n",
    "\n",
    "class Model(nn.Module):\n",
    "  def __init__(self):\n",
    "    self.encoder = nn.Linear(28*28, 10)\n",
    "    \n",
    "  # no necesitamos hacer forward\n",
    "  # def forward(self, x):\n",
    "  #   return self.encoder(x)\n",
    "\n",
    "\n",
    "  def training_step(self, batch, batch_idx):\n",
    "    x, y = batch\n",
    "    x = x.view(x.size(0), -1)\n",
    "    logit = self.encoder(x)\n",
    "    loss = cross_entropy(logit, y)\n",
    "    loss.backwards()\n",
    "    return loss\n",
    "\n",
    "  def custom_hook(self, batch):\n",
    "    \n",
    "    print(\"custom hook\")\n",
    "    return (1, 2)\n",
    "\n",
    "model = Model()\n",
    "optimizer =  Adam(model.parameters())"
   ]
  },
  {
   "cell_type": "code",
   "execution_count": 24,
   "metadata": {},
   "outputs": [],
   "source": [
    "class Trainer:\n",
    "  def __init__(self, max_epochs=1, callbacks=None):\n",
    "    self.max_epochs = max_epochs\n",
    "    if callbacks is None: self.callbacks = []\n",
    "\n",
    "  def fit(self, model, train_loader, optimizer):\n",
    "    self._train(model, train_loader)\n",
    "  \n",
    "  def on_batch_start(self, callbacks):\n",
    "    for callback in callbacks:\n",
    "      callback.on_batch_start\n",
    "  def _train(self, model, train_loader):\n",
    "    for epoch in range(self.max_epochs):\n",
    "      for batch_idx, batch in enumerate(train_loader):\n",
    "        \n",
    "\n",
    "        self.custom_hook(batch)\n",
    "        dataloader_idx = 0\n",
    "        self.on_batch_start(self, model, batch, batch_idx, dataloader_idx)\n",
    "\n",
    "        loss = model.training_step(self, batch, batch_idx)\n",
    "\n",
    "\n",
    "        torch.norm(model.encoder.weights.grad, 2)\n",
    "\n",
    "        optimizer.step()\n",
    "        # ligthning hace esto al final porque simplifica cosas (dicen)\n",
    "        optimizer.zero_grad()\n",
    "    return\n"
   ]
  },
  {
   "cell_type": "code",
   "execution_count": 25,
   "metadata": {},
   "outputs": [
    {
     "ename": "IndentationError",
     "evalue": "expected an indented block (1091623220.py, line 1)",
     "output_type": "error",
     "traceback": [
      "\u001b[0;36m  Input \u001b[0;32mIn [25]\u001b[0;36m\u001b[0m\n\u001b[0;31m    class NormCallback:\u001b[0m\n\u001b[0m                       ^\u001b[0m\n\u001b[0;31mIndentationError\u001b[0m\u001b[0;31m:\u001b[0m expected an indented block\n"
     ]
    }
   ],
   "source": [
    "class NormCallback:\n",
    "  def __init__(self):\n",
    "    pass\n",
    "\n",
    "  def on_batch_start(trainer, pl_module, batch, batch_idx, dataloader_idx):\n",
    "    "
   ]
  },
  {
   "cell_type": "code",
   "execution_count": 26,
   "metadata": {},
   "outputs": [
    {
     "ename": "NameError",
     "evalue": "name 'model' is not defined",
     "output_type": "error",
     "traceback": [
      "\u001b[0;31m---------------------------------------------------------------------------\u001b[0m",
      "\u001b[0;31mNameError\u001b[0m                                 Traceback (most recent call last)",
      "\u001b[1;32m/home/gocandra/workspace/lightning/e03_MNIST_implementing_a_pytorch_trainer.ipynb Cell 6'\u001b[0m in \u001b[0;36m<cell line: 3>\u001b[0;34m()\u001b[0m\n\u001b[1;32m      <a href='vscode-notebook-cell:/home/gocandra/workspace/lightning/e03_MNIST_implementing_a_pytorch_trainer.ipynb#ch0000003?line=0'>1</a>\u001b[0m trainer \u001b[39m=\u001b[39m Trainer(max_epochs\u001b[39m=\u001b[39m\u001b[39m10\u001b[39m)\n\u001b[0;32m----> <a href='vscode-notebook-cell:/home/gocandra/workspace/lightning/e03_MNIST_implementing_a_pytorch_trainer.ipynb#ch0000003?line=2'>3</a>\u001b[0m trainer\u001b[39m.\u001b[39mfit(model, train_loader, optimizer, callbacks\u001b[39m=\u001b[39m[NormCallback()])\n",
      "\u001b[0;31mNameError\u001b[0m: name 'model' is not defined"
     ]
    }
   ],
   "source": [
    "trainer = Trainer(max_epochs=10)\n",
    "\n",
    "trainer.fit(model, train_loader, optimizer, callbacks=[NormCallback()])"
   ]
  },
  {
   "cell_type": "code",
   "execution_count": null,
   "metadata": {},
   "outputs": [],
   "source": [
    "\n",
    "# Que hace pytorh lightning\n",
    "START ----------------|hook_1|----------------------|hook_2|------------------------ END"
   ]
  }
 ],
 "metadata": {
  "kernelspec": {
   "display_name": "Python 3.9.5 64-bit",
   "language": "python",
   "name": "python3"
  },
  "language_info": {
   "codemirror_mode": {
    "name": "ipython",
    "version": 3
   },
   "file_extension": ".py",
   "mimetype": "text/x-python",
   "name": "python",
   "nbconvert_exporter": "python",
   "pygments_lexer": "ipython3",
   "version": "3.9.5"
  },
  "orig_nbformat": 4,
  "vscode": {
   "interpreter": {
    "hash": "916dbcbb3f70747c44a77c7bcd40155683ae19c65e1c03b4aa3499c5328201f1"
   }
  }
 },
 "nbformat": 4,
 "nbformat_minor": 2
}
