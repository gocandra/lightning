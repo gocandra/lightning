{
 "cells": [
  {
   "cell_type": "code",
   "execution_count": null,
   "metadata": {},
   "outputs": [],
   "source": [
    "! pip install pytorch-lightning"
   ]
  },
  {
   "cell_type": "code",
   "execution_count": 8,
   "metadata": {},
   "outputs": [],
   "source": [
    "import torch\n",
    "from torch import nn\n",
    "from torch import optim\n",
    "from torchvision import datasets, transforms\n",
    "from torch.utils.data import random_split, DataLoader\n",
    "from tqdm import tqdm\n",
    "import pdb\n",
    "import pytorch_lightning as pl"
   ]
  },
  {
   "cell_type": "code",
   "execution_count": 9,
   "metadata": {},
   "outputs": [],
   "source": [
    "class ResNet(pl.LightningModule):\n",
    "  def __init__(self):\n",
    "    super().__init__()\n",
    "    self.l1 = nn.Linear(28 * 28, 64)\n",
    "    self.l2 = nn.Linear(64, 64)\n",
    "    self.l3 = nn.Linear(64, 10)\n",
    "    self.do = nn.Dropout(0.1)\n",
    "  \n",
    "  def forward(self, x):\n",
    "    h1 = nn.functional.relu(self.l1(x))\n",
    "    h2 = nn.functional.relu(self.l2(h1))\n",
    "    do = self.do(h2 +h1)\n",
    "    logits = self.l3(do)\n",
    "    return logits\n",
    "\n",
    "  def configure_optimizers(self):\n",
    "    optimizer = optim.SGD(self.parameters, lr=1e-2)\n",
    "\n",
    "  def training_step(self, batch, batch_idx):\n",
    "    x, y = batch\n",
    "    # x = batchsize * 1 * 28 * 28\n",
    "    b = x.size(0)\n",
    "    x = x.view(b, -1) #.cuda() \n",
    "    # el -1 multiplica los otros numeros no declarados\n",
    "\n",
    "    # 1) forward\n",
    "    # l = logit = funcion que devuelve una probabilidad entre 0 y 1 (log odds function) el output de la ultima capa\n",
    "    l = model(x)\n",
    "    pdb.set_trace()\n",
    "    # 2) compute the objective function\n",
    "    # the loss is the distance from the network prediction and the real value\n",
    "    # the objective funtion is equal to the loss in value but it's a function of it's parameters not the output\n",
    "    J = loss(l, y) #.cuda())\n",
    "\n",
    "    # 3) cleaning the gradient\n",
    "    model.zero_grad()\n",
    "    # optimizer.zero_grad()\n",
    "    \n",
    "\n",
    "    # 4) accumulate the partial derivatives of J with respect to the parameters   \n",
    "    J.backward()\n",
    "    # parameters.grad._sum(dJ/dparams)\n",
    "    # basicamente como cambia el output de la red respecto de los parametros\n",
    "    # como no queremos acumular todas las perdidas (ya que queremos hacer SGD) es que ejecutamos el paso 3! \n",
    "    \n",
    "    # pytorch acumula porque te permite hacer cosas mas chetas\n",
    "    # 5) step in the opposite direction of the gradient\n",
    "    optimizer.step()\n",
    "\n",
    "    # si usamos J vamos a lekear memoria (tiene todo el grafo)\n",
    "    # por eso appendeamos J.items\n",
    "    losses.append(J.item())\n",
    "    \n",
    "\n",
    "model = ResNet()"
   ]
  },
  {
   "cell_type": "code",
   "execution_count": 10,
   "metadata": {},
   "outputs": [],
   "source": [
    "class ImageClassifier(pl.LightningModule):\n",
    "  def __init__(self):\n",
    "    super().__init__()\n",
    "    self.resnet = ResNet()\n"
   ]
  },
  {
   "cell_type": "code",
   "execution_count": null,
   "metadata": {},
   "outputs": [],
   "source": []
  }
 ],
 "metadata": {
  "kernelspec": {
   "display_name": "Python 3.9.5 64-bit",
   "language": "python",
   "name": "python3"
  },
  "language_info": {
   "codemirror_mode": {
    "name": "ipython",
    "version": 3
   },
   "file_extension": ".py",
   "mimetype": "text/x-python",
   "name": "python",
   "nbconvert_exporter": "python",
   "pygments_lexer": "ipython3",
   "version": "3.9.5"
  },
  "orig_nbformat": 4,
  "vscode": {
   "interpreter": {
    "hash": "916dbcbb3f70747c44a77c7bcd40155683ae19c65e1c03b4aa3499c5328201f1"
   }
  }
 },
 "nbformat": 4,
 "nbformat_minor": 2
}
